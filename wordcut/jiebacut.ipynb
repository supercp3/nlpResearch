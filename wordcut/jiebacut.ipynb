{
 "cells": [
  {
   "cell_type": "markdown",
   "metadata": {},
   "source": [
    "### jieba分词方法"
   ]
  },
  {
   "cell_type": "code",
   "execution_count": 1,
   "metadata": {
    "collapsed": true
   },
   "outputs": [],
   "source": [
    "import jieba"
   ]
  },
  {
   "cell_type": "code",
   "execution_count": 2,
   "metadata": {
    "collapsed": true
   },
   "outputs": [],
   "source": [
    "sentence=\"我来到北京航空航天大学\""
   ]
  },
  {
   "cell_type": "code",
   "execution_count": 4,
   "metadata": {},
   "outputs": [
    {
     "name": "stdout",
     "output_type": "stream",
     "text": [
      "全模式: 我 来到 北京 北京航空航天大学 航空 航空航天 空航 航天 天大 大学\n"
     ]
    }
   ],
   "source": [
    "#全模式\n",
    "res1=jieba.cut(sentence,cut_all=True)\n",
    "print(\"全模式:\",\" \".join(res1))"
   ]
  },
  {
   "cell_type": "code",
   "execution_count": 5,
   "metadata": {},
   "outputs": [
    {
     "name": "stdout",
     "output_type": "stream",
     "text": [
      "精确模式： 我 来到 北京航空航天大学\n"
     ]
    }
   ],
   "source": [
    "#精确模式\n",
    "res2=jieba.cut(sentence,cut_all=False)\n",
    "print(\"精确模式：\",\" \".join(res2))"
   ]
  },
  {
   "cell_type": "code",
   "execution_count": 7,
   "metadata": {},
   "outputs": [
    {
     "name": "stdout",
     "output_type": "stream",
     "text": [
      "搜索引擎模式 我 来到 北京 航空 空航 航天 天大 大学 北京航空航天大学\n"
     ]
    }
   ],
   "source": [
    "#搜索引擎模式\n",
    "res3=jieba.cut_for_search(sentence)\n",
    "print(\"搜索引擎模式\",\" \".join(res3))"
   ]
  },
  {
   "cell_type": "code",
   "execution_count": 9,
   "metadata": {},
   "outputs": [
    {
     "name": "stdout",
     "output_type": "stream",
     "text": [
      "['我', '来到', '北京航空航天大学']\n"
     ]
    }
   ],
   "source": [
    "#返回列表\n",
    "res4=jieba.lcut(sentence)\n",
    "print(res4)"
   ]
  },
  {
   "cell_type": "code",
   "execution_count": 13,
   "metadata": {},
   "outputs": [
    {
     "name": "stdout",
     "output_type": "stream",
     "text": [
      "我 r\n",
      "来到 v\n",
      "北京航空航天大学 nt\n"
     ]
    }
   ],
   "source": [
    "#词性标注\n",
    "import jieba.posseg as pseg\n",
    "words=pseg.cut(sentence)\n",
    "for w,v in words:\n",
    "    print(w,v)"
   ]
  },
  {
   "cell_type": "markdown",
   "metadata": {},
   "source": [
    "### snownlp分词方法"
   ]
  },
  {
   "cell_type": "code",
   "execution_count": 19,
   "metadata": {},
   "outputs": [
    {
     "name": "stdout",
     "output_type": "stream",
     "text": [
      "['我', '来到', '北京', '航空', '航天', '大学']\n"
     ]
    }
   ],
   "source": [
    "from snownlp import SnowNLP\n",
    "s=SnowNLP(sentence)\n",
    "print(s.words)"
   ]
  },
  {
   "cell_type": "markdown",
   "metadata": {},
   "source": [
    "### THULAC分词方法"
   ]
  },
  {
   "cell_type": "code",
   "execution_count": 20,
   "metadata": {},
   "outputs": [
    {
     "name": "stdout",
     "output_type": "stream",
     "text": [
      "Model loaded succeed\n"
     ]
    }
   ],
   "source": [
    "import thulac\n",
    "#分词及词性标注\n",
    "s=thulac.thulac()"
   ]
  },
  {
   "cell_type": "code",
   "execution_count": 21,
   "metadata": {},
   "outputs": [
    {
     "name": "stdout",
     "output_type": "stream",
     "text": [
      "分词及词性标注： [['我', 'r'], ['来', 'v'], ['到', 'v'], ['北京', 'ns'], ['航空', 'n'], ['航天', 'n'], ['大学', 'n']]\n"
     ]
    }
   ],
   "source": [
    "s=s.cut(sentence)\n",
    "print(\"分词及词性标注：\",s)"
   ]
  },
  {
   "cell_type": "code",
   "execution_count": 22,
   "metadata": {},
   "outputs": [
    {
     "name": "stdout",
     "output_type": "stream",
     "text": [
      "Model loaded succeed\n"
     ]
    }
   ],
   "source": [
    "#仅仅分词\n",
    "s2=thulac.thulac(seg_only=True)"
   ]
  },
  {
   "cell_type": "code",
   "execution_count": 23,
   "metadata": {},
   "outputs": [
    {
     "name": "stdout",
     "output_type": "stream",
     "text": [
      "分词： [['我', ''], ['来', ''], ['到', ''], ['北京', ''], ['航空', ''], ['航天', ''], ['大学', '']]\n"
     ]
    }
   ],
   "source": [
    "s2=s2.cut(sentence)\n",
    "print(\"分词：\",s2)"
   ]
  },
  {
   "cell_type": "code",
   "execution_count": null,
   "metadata": {
    "collapsed": true
   },
   "outputs": [],
   "source": []
  }
 ],
 "metadata": {
  "kernelspec": {
   "display_name": "Python 3",
   "language": "python",
   "name": "python3"
  },
  "language_info": {
   "codemirror_mode": {
    "name": "ipython",
    "version": 3
   },
   "file_extension": ".py",
   "mimetype": "text/x-python",
   "name": "python",
   "nbconvert_exporter": "python",
   "pygments_lexer": "ipython3",
   "version": "3.6.1"
  }
 },
 "nbformat": 4,
 "nbformat_minor": 2
}
